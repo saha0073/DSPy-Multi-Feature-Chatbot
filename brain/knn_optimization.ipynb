{
 "cells": [
  {
   "cell_type": "code",
   "execution_count": 1,
   "id": "5d4b10af-b98f-4c52-b87f-3455ef9f1c2a",
   "metadata": {},
   "outputs": [
    {
     "name": "stderr",
     "output_type": "stream",
     "text": [
      "C:\\Users\\subho\\anaconda3\\envs\\whisper2\\lib\\site-packages\\tqdm\\auto.py:21: TqdmWarning: IProgress not found. Please update jupyter and ipywidgets. See https://ipywidgets.readthedocs.io/en/stable/user_install.html\n",
      "  from .autonotebook import tqdm as notebook_tqdm\n"
     ]
    }
   ],
   "source": [
    "from models import ChatMessage, ChatHistory\n",
    "import dspy\n",
    "from lms.together import Together\n",
    "\n",
    "from modules.chatter import ChatterModule"
   ]
  },
  {
   "cell_type": "code",
   "execution_count": 2,
   "id": "bb4dff04-07dd-43eb-825d-c536071f251d",
   "metadata": {},
   "outputs": [],
   "source": [
    "lm = Together(\n",
    "    model=\"meta-llama/Meta-Llama-3.1-405B-Instruct-Turbo\",\n",
    "    temperature=0.5,\n",
    "    max_tokens=1000,\n",
    "    top_p=0.7,\n",
    "    top_k=50,\n",
    "    repetition_penalty=1.2,\n",
    "    stop=[\"<|eot_id|>\", \"<|eom_id|>\", \"\\n\\n---\\n\\n\", \"\\n\\n---\", \"---\", \"\\n---\"],\n",
    "    # stop=[\"\\n\", \"\\n\\n\"],\n",
    ")"
   ]
  },
  {
   "cell_type": "code",
   "execution_count": 3,
   "id": "0a389b21-dc30-40fc-80da-f3d743ae2025",
   "metadata": {},
   "outputs": [],
   "source": [
    "dspy.settings.configure(lm=lm)"
   ]
  },
  {
   "cell_type": "code",
   "execution_count": 4,
   "id": "5b0d9407-0469-40b8-8e5d-13f451cbeda3",
   "metadata": {},
   "outputs": [
    {
     "name": "stdout",
     "output_type": "stream",
     "text": [
      "Training examples: 8\n",
      "Dev examples: 2\n"
     ]
    }
   ],
   "source": [
    "import json\n",
    "import random\n",
    "from models import ChatMessage, ChatHistory\n",
    "\n",
    "# Load the dataset\n",
    "with open('../training_data/conversations.json', 'r') as f:\n",
    "    conversations = json.load(f)\n",
    "\n",
    "# Set random seed for reproducibility\n",
    "random.seed(42)\n",
    "random.shuffle(conversations)\n",
    "\n",
    "# Split into train (80%) and dev (20%) sets\n",
    "split_idx = int(len(conversations) * 0.8)\n",
    "train_data = conversations[:split_idx]\n",
    "dev_data = conversations[split_idx:]\n",
    "\n",
    "# Create trainset and devset with proper ChatHistory objects\n",
    "def create_example(conv):\n",
    "    # Create ChatHistory object with proper message format\n",
    "    chat_history = ChatHistory(\n",
    "        messages=[\n",
    "            ChatMessage(**msg) for msg in conv['chat_history']['messages']\n",
    "        ]\n",
    "    )\n",
    "    \n",
    "    return dspy.Example({\n",
    "        'chat_history': chat_history,\n",
    "        'output': conv['output']\n",
    "    }).with_inputs('chat_history')\n",
    "\n",
    "trainset = [create_example(conv) for conv in train_data]\n",
    "devset = [create_example(conv) for conv in dev_data]\n",
    "\n",
    "print(f\"Training examples: {len(trainset)}\")\n",
    "print(f\"Dev examples: {len(devset)}\")"
   ]
  },
  {
   "cell_type": "code",
   "execution_count": 5,
   "id": "4d87829e-e5b4-4b65-a246-6d0d2bb8f29a",
   "metadata": {},
   "outputs": [
    {
     "name": "stdout",
     "output_type": "stream",
     "text": [
      "Training Example Structure:\n",
      "THE FAN: I feel like Iâ€™m always â€˜rediscoveringâ€™ myself. Is that normal, or am I just indecisive?\n",
      "YOU: Rediscovery is a sign of growth. Weâ€™re constantly evolving, and itâ€™s healthy to question who you are.\n",
      "THE FAN: It feels chaotic, but I also feel like Iâ€™m learning so much about myself.\n",
      "[ChatMessage(from_creator=False, content='I feel like Iâ€™m always â€˜rediscoveringâ€™ myself. Is that normal, or am I just indecisive?'), ChatMessage(from_creator=True, content='Rediscovery is a sign of growth. Weâ€™re constantly evolving, and itâ€™s healthy to question who you are.'), ChatMessage(from_creator=False, content='It feels chaotic, but I also feel like Iâ€™m learning so much about myself.')]\n"
     ]
    }
   ],
   "source": [
    "# Example from trainset\n",
    "example = trainset[0]\n",
    "print(\"Training Example Structure:\")\n",
    "print(example.chat_history)  # This is a ChatHistory object\n",
    "print(example.chat_history.messages) "
   ]
  },
  {
   "cell_type": "code",
   "execution_count": 14,
   "id": "57fd32f8-7528-48cb-a1fe-8e9905179abc",
   "metadata": {},
   "outputs": [],
   "source": [
    "from dspy.teleprompt import KNNFewShot\n",
    "from modules.chatter import ChatterModule\n",
    "\n",
    "# Create the KNN teleprompter\n",
    "knn_teleprompter = KNNFewShot(7, trainset)\n",
    "\n",
    "# Create an instance of ChatterModule\n",
    "chatter = ChatterModule(examples=None)\n",
    "\n",
    "# Compile with our ChatterModule\n",
    "compiled_knn = knn_teleprompter.compile(chatter, trainset=trainset)\n",
    "\n",
    "# Save the compiled model\n",
    "#compiled_knn.save(\"saved_models/optimized_chatbot.json\")"
   ]
  },
  {
   "cell_type": "code",
   "execution_count": 13,
   "id": "69fff5a8-f06c-4448-84fb-cc7536dbfcc3",
   "metadata": {},
   "outputs": [
    {
     "data": {
      "text/plain": [
       "responder.prog.predictor = Predict(StringSignature(chat_history -> reasoning, output\n",
       "    instructions='You are an OnlyFans creator chatting on OnlyFans with a fan.\\nYou are deciding on what your message should be.'\n",
       "    chat_history = Field(annotation=ChatHistory required=True json_schema_extra={'desc': 'the chat history', '__dspy_field_type': 'input', 'prefix': 'Chat History:'})\n",
       "    reasoning = Field(annotation=str required=True json_schema_extra={'prefix': \"Reasoning: Let's think step by step to decide on our message. We\", '__dspy_field_type': 'output', 'desc': '${reasoning}'})\n",
       "    output = Field(annotation=str required=True json_schema_extra={'prefix': 'Your Message:', 'desc': 'the exact text of the message you will send to the fan.', '__dspy_field_type': 'output'})\n",
       "))"
      ]
     },
     "execution_count": 13,
     "metadata": {},
     "output_type": "execute_result"
    }
   ],
   "source": [
    "compiled_knn"
   ]
  },
  {
   "cell_type": "code",
   "execution_count": 9,
   "id": "2761968c-c491-48d2-978f-c0b3a92e05ca",
   "metadata": {},
   "outputs": [
    {
     "data": {
      "text/plain": [
       "responder.prog.predictor = Predict(StringSignature(chat_history -> reasoning, output\n",
       "    instructions='You are an OnlyFans creator chatting on OnlyFans with a fan.\\nYou are deciding on what your message should be.'\n",
       "    chat_history = Field(annotation=ChatHistory required=True json_schema_extra={'desc': 'the chat history', '__dspy_field_type': 'input', 'prefix': 'Chat History:'})\n",
       "    reasoning = Field(annotation=str required=True json_schema_extra={'prefix': \"Reasoning: Let's think step by step to decide on our message. We\", '__dspy_field_type': 'output', 'desc': '${reasoning}'})\n",
       "    output = Field(annotation=str required=True json_schema_extra={'prefix': 'Your Message:', 'desc': 'the exact text of the message you will send to the fan.', '__dspy_field_type': 'output'})\n",
       "))"
      ]
     },
     "execution_count": 9,
     "metadata": {},
     "output_type": "execute_result"
    }
   ],
   "source": [
    "compiled_knn"
   ]
  },
  {
   "cell_type": "code",
   "execution_count": 6,
   "id": "5e1085ea-3541-4ded-a5c8-ac51ee0e3472",
   "metadata": {},
   "outputs": [
    {
     "name": "stdout",
     "output_type": "stream",
     "text": [
      "\n",
      "Testing with k=2\n",
      "--------------------------------------------------\n"
     ]
    },
    {
     "name": "stderr",
     "output_type": "stream",
     "text": [
      "WARNING:root:\t*** Since DSPy 2.5.16+, TypedPredictors are now deprecated, underperform, and are about to be removed! ***\n",
      "Please use standard predictors, e.g. dspy.Predict and dspy.ChainOfThought.\n",
      "They now support type annotations and other features of TypedPredictors and tend to work much better out of the box.\n",
      "Please let us know if you face any issues: https://github.com/stanfordnlp/dspy/issues\n",
      "  0%|                                                                                        | 0/2 [00:00<?, ?it/s]WARNING:root:\t*** In DSPy 2.5, all LM clients except `dspy.LM` are deprecated, underperform, and are about to be deleted. ***\n",
      " \t\tYou are using the client Together, which will be removed in DSPy 2.6.\n",
      " \t\tChanging the client is straightforward and will let you use new features (Adapters) that improve the consistency of LM outputs, especially when using chat LMs. \n",
      "\n",
      " \t\tLearn more about the changes and how to migrate at\n",
      " \t\thttps://github.com/stanfordnlp/dspy/blob/main/examples/migration.ipynb\n",
      "100%|████████████████████████████████████████████████████████████████████████████████| 2/2 [00:08<00:00,  4.10s/it]\n"
     ]
    },
    {
     "name": "stdout",
     "output_type": "stream",
     "text": [
      "Bootstrapped 0 full traces after 1 examples for up to 1 rounds, amounting to 2 attempts.\n",
      "\n",
      "Input conversation:\n",
      "Fan: I feel like Iâ€™m always â€˜rediscoveringâ€™ myself. Is that normal, or am I just indecisive?\n",
      "Creator: Rediscovery is a sign of growth. Weâ€™re constantly evolving, and itâ€™s healthy to question who you are.\n",
      "Fan: It feels chaotic, but I also feel like Iâ€™m learning so much about myself.\n",
      "\n",
      "Model output: You're navigating through life with courage, allowing yourself to learn and grow from each experience. The uncertainty might seem daunting at times, but remember, clarity often emerges in hindsight. Keep moving forward; every discovery brings you closer to understanding yourself better.\n",
      "\n",
      "Nearest 2 neighbors used:\n",
      "\n",
      "Neighbor 1:\n",
      "Fan: I feel like Iâ€™m always â€˜rediscoveringâ€™ myself. Is that normal, or am I just indecisive?\n",
      "Creator: Rediscovery is a sign of growth. Weâ€™re constantly evolving, and itâ€™s healthy to question who you are.\n",
      "Fan: It feels chaotic, but I also feel like Iâ€™m learning so much about myself.\n",
      "Response: Thatâ€™s the beauty of self-discovery. Embrace the chaosâ€”it means youâ€™re alive and curious.\n",
      "\n",
      "Neighbor 2:\n",
      "Fan: Do you ever feel like the idea of â€˜self-improvementâ€™ is just another way to make people feel inadequate?\n",
      "Creator: Thatâ€™s a deep question. True self-improvement shouldnâ€™t make you feel lacking. Itâ€™s about becoming more yourself, not something else.\n",
      "Fan: I like that. Like, I can just be me but maybe a little less chaotic?\n",
      "Response: Exactly! Improvement isnâ€™t about fixing, just embracing yourself with more awareness and acceptance.\n",
      "\n",
      "Testing with k=3\n",
      "--------------------------------------------------\n"
     ]
    },
    {
     "name": "stderr",
     "output_type": "stream",
     "text": [
      "100%|████████████████████████████████████████████████████████████████████████████████| 3/3 [00:15<00:00,  5.23s/it]\n"
     ]
    },
    {
     "name": "stdout",
     "output_type": "stream",
     "text": [
      "Bootstrapped 0 full traces after 2 examples for up to 1 rounds, amounting to 3 attempts.\n",
      "\n",
      "Input conversation:\n",
      "Fan: I feel like Iâ€™m always â€˜rediscoveringâ€™ myself. Is that normal, or am I just indecisive?\n",
      "Creator: Rediscovery is a sign of growth. Weâ€™re constantly evolving, and itâ€™s healthy to question who you are.\n",
      "Fan: It feels chaotic, but I also feel like Iâ€™m learning so much about myself.\n",
      "\n",
      "Model output: The journey might seem messy right now, but every new insight brings clarity. Keep exploring; each rediscovery shapes who you'll become next.\n",
      "\n",
      "Nearest 3 neighbors used:\n",
      "\n",
      "Neighbor 1:\n",
      "Fan: I feel like Iâ€™m always â€˜rediscoveringâ€™ myself. Is that normal, or am I just indecisive?\n",
      "Creator: Rediscovery is a sign of growth. Weâ€™re constantly evolving, and itâ€™s healthy to question who you are.\n",
      "Fan: It feels chaotic, but I also feel like Iâ€™m learning so much about myself.\n",
      "Response: Thatâ€™s the beauty of self-discovery. Embrace the chaosâ€”it means youâ€™re alive and curious.\n",
      "\n",
      "Neighbor 2:\n",
      "Fan: Do you ever feel like the idea of â€˜self-improvementâ€™ is just another way to make people feel inadequate?\n",
      "Creator: Thatâ€™s a deep question. True self-improvement shouldnâ€™t make you feel lacking. Itâ€™s about becoming more yourself, not something else.\n",
      "Fan: I like that. Like, I can just be me but maybe a little less chaotic?\n",
      "Response: Exactly! Improvement isnâ€™t about fixing, just embracing yourself with more awareness and acceptance.\n",
      "\n",
      "Neighbor 3:\n",
      "Fan: I sometimes feel like Iâ€™m an â€˜old soulâ€™ in a world thatâ€™s moving too fast. Is that weird?\n",
      "Creator: Not at all. Some people connect deeply with past eras, and thatâ€™s perfectly valid. Itâ€™s about finding your own rhythm.\n",
      "Fan: Thatâ€™s really reassuring. Sometimes I just want to escape into another time.\n",
      "Response: Thatâ€™s understandable. Just remember that you can bring elements of those eras into your life now.\n",
      "\n",
      "Testing with k=4\n",
      "--------------------------------------------------\n"
     ]
    },
    {
     "name": "stderr",
     "output_type": "stream",
     "text": [
      "100%|████████████████████████████████████████████████████████████████████████████████| 4/4 [00:24<00:00,  6.06s/it]\n"
     ]
    },
    {
     "name": "stdout",
     "output_type": "stream",
     "text": [
      "Bootstrapped 0 full traces after 3 examples for up to 1 rounds, amounting to 4 attempts.\n",
      "\n",
      "Input conversation:\n",
      "Fan: I feel like Iâ€™m always â€˜rediscoveringâ€™ myself. Is that normal, or am I just indecisive?\n",
      "Creator: Rediscovery is a sign of growth. Weâ€™re constantly evolving, and itâ€™s healthy to question who you are.\n",
      "Fan: It feels chaotic, but I also feel like Iâ€™m learning so much about myself.\n",
      "\n",
      "Model output: Try journaling these discoveries. Reflecting back might help solidify these new insights about yourself.\n",
      "\n",
      "Nearest 4 neighbors used:\n",
      "\n",
      "Neighbor 1:\n",
      "Fan: I feel like Iâ€™m always â€˜rediscoveringâ€™ myself. Is that normal, or am I just indecisive?\n",
      "Creator: Rediscovery is a sign of growth. Weâ€™re constantly evolving, and itâ€™s healthy to question who you are.\n",
      "Fan: It feels chaotic, but I also feel like Iâ€™m learning so much about myself.\n",
      "Response: Thatâ€™s the beauty of self-discovery. Embrace the chaosâ€”it means youâ€™re alive and curious.\n",
      "\n",
      "Neighbor 2:\n",
      "Fan: Do you ever feel like the idea of â€˜self-improvementâ€™ is just another way to make people feel inadequate?\n",
      "Creator: Thatâ€™s a deep question. True self-improvement shouldnâ€™t make you feel lacking. Itâ€™s about becoming more yourself, not something else.\n",
      "Fan: I like that. Like, I can just be me but maybe a little less chaotic?\n",
      "Response: Exactly! Improvement isnâ€™t about fixing, just embracing yourself with more awareness and acceptance.\n",
      "\n",
      "Neighbor 3:\n",
      "Fan: I sometimes feel like Iâ€™m an â€˜old soulâ€™ in a world thatâ€™s moving too fast. Is that weird?\n",
      "Creator: Not at all. Some people connect deeply with past eras, and thatâ€™s perfectly valid. Itâ€™s about finding your own rhythm.\n",
      "Fan: Thatâ€™s really reassuring. Sometimes I just want to escape into another time.\n",
      "Response: Thatâ€™s understandable. Just remember that you can bring elements of those eras into your life now.\n",
      "\n",
      "Neighbor 4:\n",
      "Fan: How would you balance being an introvert with the need for connection? I feel like I live in a world of my own...\n",
      "Creator: The key is finding people who appreciate your world rather than requiring you to leave it. True connection can be simple and quiet.\n",
      "Fan: Thatâ€™s really comforting. I always thought connection had to be extroverted.\n",
      "Response: Not at all. Itâ€™s about quality, not quantity. Authentic connection doesnâ€™t demand you to be someone youâ€™re not.\n"
     ]
    }
   ],
   "source": [
    "from dspy.teleprompt import KNNFewShot\n",
    "from modules.chatter import ChatterModule\n",
    "\n",
    "def metric(example, prediction, trace=None):\n",
    "    return example.output == prediction.output\n",
    "\n",
    "def test_knn(k_value):\n",
    "    print(f\"\\nTesting with k={k_value}\")\n",
    "    print(\"-\" * 50)\n",
    "    \n",
    "    bootstrap_args = {\n",
    "        'metric': metric,\n",
    "        'max_bootstrapped_demos': 2,\n",
    "        'max_labeled_demos': 4,\n",
    "        'max_rounds': 1,\n",
    "        'max_errors': 5\n",
    "    }\n",
    "\n",
    "    knn_teleprompter = KNNFewShot(\n",
    "        k=k_value,\n",
    "        trainset=trainset,\n",
    "        **bootstrap_args\n",
    "    )\n",
    "\n",
    "    chatter = ChatterModule(examples=None)\n",
    "    compiled_knn = knn_teleprompter.compile(\n",
    "        student=chatter,\n",
    "        trainset=trainset\n",
    "    )\n",
    "\n",
    "    # Test with sample input\n",
    "    test_history = trainset[0].chat_history\n",
    "    result = compiled_knn(chat_history=test_history)\n",
    "    \n",
    "    # Get and print neighbors\n",
    "    neighbors = knn_teleprompter.KNN(chat_history=test_history)\n",
    "    \n",
    "    print(f\"\\nInput conversation:\")\n",
    "    for msg in test_history.messages:\n",
    "        role = \"Fan\" if not msg.from_creator else \"Creator\"\n",
    "        print(f\"{role}: {msg.content}\")\n",
    "    \n",
    "    print(f\"\\nModel output: {result.output}\")\n",
    "    \n",
    "    print(f\"\\nNearest {k_value} neighbors used:\")\n",
    "    for i, n in enumerate(neighbors):\n",
    "        print(f\"\\nNeighbor {i+1}:\")\n",
    "        for msg in n.chat_history.messages:\n",
    "            role = \"Fan\" if not msg.from_creator else \"Creator\"\n",
    "            print(f\"{role}: {msg.content}\")\n",
    "        print(f\"Response: {n.output}\")\n",
    "\n",
    "# Test with different k values\n",
    "for k in [2, 3, 4]:\n",
    "    test_knn(k)"
   ]
  },
  {
   "cell_type": "code",
   "execution_count": 7,
   "id": "42befae8-1812-4772-b566-e014a899147a",
   "metadata": {},
   "outputs": [
    {
     "name": "stdout",
     "output_type": "stream",
     "text": [
      "\n",
      "Testing with k=2\n",
      "--------------------------------------------------\n"
     ]
    },
    {
     "name": "stderr",
     "output_type": "stream",
     "text": [
      "100%|█████████████████████████████████████████████████████| 2/2 [00:09<00:00,  4.61s/it]\n"
     ]
    },
    {
     "name": "stdout",
     "output_type": "stream",
     "text": [
      "Bootstrapped 0 full traces after 1 examples for up to 1 rounds, amounting to 2 attempts.\n",
      "\n",
      "Sample 1:\n",
      "Input (last message): THE FAN: It feels chaotic, but I also feel like Iâ€™m learning so much about myself.\n",
      "Expected: Thatâ€™s the beauty of self-discovery. Embrace the chaosâ€”it means youâ€™re alive and curious.\n",
      "Generated: The journey might seem messy now, but every revelation brings you closer to understanding yourself better. Keep exploring!\n",
      "ROUGE-L: 0.114\n",
      "Semantic Similarity: 0.367\n",
      "\n",
      "Nearest 2 neighbors used:\n",
      "\n",
      "Neighbor 1:\n",
      "Last message: THE FAN: It feels chaotic, but I also feel like Iâ€™m learning so much about myself.\n",
      "Response: Thatâ€™s the beauty of self-discovery. Embrace the chaosâ€”it means youâ€™re alive and curious.\n",
      "\n",
      "Neighbor 2:\n",
      "Last message: THE FAN: I like that. Like, I can just be me but maybe a little less chaotic?\n",
      "Response: Exactly! Improvement isnâ€™t about fixing, just embracing yourself with more awareness and acceptance.\n"
     ]
    },
    {
     "name": "stderr",
     "output_type": "stream",
     "text": [
      "100%|█████████████████████████████████████████████████████| 2/2 [00:14<00:00,  7.19s/it]\n"
     ]
    },
    {
     "name": "stdout",
     "output_type": "stream",
     "text": [
      "Bootstrapped 0 full traces after 1 examples for up to 1 rounds, amounting to 2 attempts.\n",
      "\n",
      "Sample 5:\n",
      "Input (last message): THE FAN: I love that idea. Maybe right now, Iâ€™m in my â€˜mystical scienceâ€™ chapter.\n",
      "Expected: Exactly! Allow yourself to dive deeply into each chapter. Your interests are like seasonsâ€”they come and go with purpose.\n",
      "Generated: That sounds fascinating! Dive deep into mystical science for now; remember, future chapters await when the time comes. Learning unfolds over years, so enjoy this journey without worrying about missing anything else.\n",
      "ROUGE-L: 0.154\n",
      "Semantic Similarity: 0.422\n",
      "\n",
      "Nearest 2 neighbors used:\n",
      "\n",
      "Neighbor 1:\n",
      "Last message: THE FAN: I love that idea. Maybe right now, Iâ€™m in my â€˜mystical scienceâ€™ chapter.\n",
      "Response: Exactly! Allow yourself to dive deeply into each chapter. Your interests are like seasonsâ€”they come and go with purpose.\n",
      "\n",
      "Neighbor 2:\n",
      "Last message: THE FAN: Iâ€™ll try focusing on my small joysâ€”like vintage records and herbal teas.\n",
      "Response: Perfect. Those are your anchors. In a chaotic world, even small rituals can be deeply meaningful.\n"
     ]
    },
    {
     "name": "stderr",
     "output_type": "stream",
     "text": [
      "100%|█████████████████████████████████████████████████████| 2/2 [00:12<00:00,  6.02s/it]\n"
     ]
    },
    {
     "name": "stdout",
     "output_type": "stream",
     "text": [
      "Bootstrapped 0 full traces after 1 examples for up to 1 rounds, amounting to 2 attempts.\n",
      "\n",
      "Sample 2:\n",
      "Input (last message): THE FAN: Wow, I never thought of it that way. Like, each key is a choice or a mystery.\n",
      "Expected: Exactly! Sometimes the things we keep have deeper symbolism, even if we donâ€™t realize it consciously.\n",
      "Generated: Do you have a favorite among those keys, one that holds a special story or appeal for you?\n",
      "ROUGE-L: 0.057\n",
      "Semantic Similarity: 0.177\n",
      "\n",
      "Nearest 2 neighbors used:\n",
      "\n",
      "Neighbor 1:\n",
      "Last message: THE FAN: Wow, I never thought of it that way. Like, each key is a choice or a mystery.\n",
      "Response: Exactly! Sometimes the things we keep have deeper symbolism, even if we donâ€™t realize it consciously.\n",
      "\n",
      "Neighbor 2:\n",
      "Last message: THE FAN: Iâ€™ll try focusing on my small joysâ€”like vintage records and herbal teas.\n",
      "Response: Perfect. Those are your anchors. In a chaotic world, even small rituals can be deeply meaningful.\n"
     ]
    },
    {
     "name": "stderr",
     "output_type": "stream",
     "text": [
      "100%|█████████████████████████████████████████████████████| 2/2 [00:15<00:00,  7.72s/it]\n"
     ]
    },
    {
     "name": "stdout",
     "output_type": "stream",
     "text": [
      "Bootstrapped 0 full traces after 1 examples for up to 1 rounds, amounting to 2 attempts.\n",
      "\n",
      "Sample 7:\n",
      "Input (last message): THE FAN: Iâ€™ll try focusing on my small joysâ€”like vintage records and herbal teas.\n",
      "Expected: Perfect. Those are your anchors. In a chaotic world, even small rituals can be deeply meaningful.\n",
      "Generated: It sounds like you're already taking steps towards finding more balance. Remember, these small pleasures aren't just distractions; they're ways to connect deeper with yourself and others who share similar passions. Keep nurturing them!\n",
      "ROUGE-L: 0.038\n",
      "Semantic Similarity: 0.193\n",
      "\n",
      "Nearest 2 neighbors used:\n",
      "\n",
      "Neighbor 1:\n",
      "Last message: THE FAN: Iâ€™ll try focusing on my small joysâ€”like vintage records and herbal teas.\n",
      "Response: Perfect. Those are your anchors. In a chaotic world, even small rituals can be deeply meaningful.\n",
      "\n",
      "Neighbor 2:\n",
      "Last message: THE FAN: I love that idea. Maybe right now, Iâ€™m in my â€˜mystical scienceâ€™ chapter.\n",
      "Response: Exactly! Allow yourself to dive deeply into each chapter. Your interests are like seasonsâ€”they come and go with purpose.\n"
     ]
    },
    {
     "name": "stderr",
     "output_type": "stream",
     "text": [
      "100%|█████████████████████████████████████████████████████| 2/2 [00:11<00:00,  5.96s/it]\n"
     ]
    },
    {
     "name": "stdout",
     "output_type": "stream",
     "text": [
      "Bootstrapped 0 full traces after 1 examples for up to 1 rounds, amounting to 2 attempts.\n",
      "\n",
      "Sample 4:\n",
      "Input (last message): THE FAN: Thatâ€™s really reassuring. Sometimes I just want to escape into another time.\n",
      "Expected: Thatâ€™s understandable. Just remember that you can bring elements of those eras into your life now.\n",
      "Generated: Escapism isn't bad; it can actually inspire creativity. But don’t forget there’s beauty in blending old vibes with modern times—find ways to make the past work within today.\n",
      "ROUGE-L: 0.041\n",
      "Semantic Similarity: 0.346\n",
      "\n",
      "Nearest 2 neighbors used:\n",
      "\n",
      "Neighbor 1:\n",
      "Last message: THE FAN: Thatâ€™s really reassuring. Sometimes I just want to escape into another time.\n",
      "Response: Thatâ€™s understandable. Just remember that you can bring elements of those eras into your life now.\n",
      "\n",
      "Neighbor 2:\n",
      "Last message: THE FAN: It feels chaotic, but I also feel like Iâ€™m learning so much about myself.\n",
      "Response: Thatâ€™s the beauty of self-discovery. Embrace the chaosâ€”it means youâ€™re alive and curious.\n",
      "\n",
      "Overall Metrics:\n",
      "Average ROUGE-L: 0.081 (±0.046)\n",
      "Average Semantic Similarity: 0.301 (±0.098)\n",
      "\n",
      "Testing with k=3\n",
      "--------------------------------------------------\n"
     ]
    },
    {
     "name": "stderr",
     "output_type": "stream",
     "text": [
      "100%|█████████████████████████████████████████████████████| 3/3 [00:13<00:00,  4.54s/it]\n"
     ]
    },
    {
     "name": "stdout",
     "output_type": "stream",
     "text": [
      "Bootstrapped 0 full traces after 2 examples for up to 1 rounds, amounting to 3 attempts.\n",
      "\n",
      "Sample 6:\n",
      "Input (last message): THE FAN: So itâ€™s okay to think about my high school poetry phase and my obsession with old radios?\n",
      "Expected: Absolutely. Those memories are part of who you are, but donâ€™t let them define your future entirely.\n",
      "Generated: Absolutely. Reflecting on those times can offer valuable insights for today.\n",
      "ROUGE-L: 0.138\n",
      "Semantic Similarity: 0.443\n",
      "\n",
      "Nearest 3 neighbors used:\n",
      "\n",
      "Neighbor 1:\n",
      "Last message: THE FAN: So itâ€™s okay to think about my high school poetry phase and my obsession with old radios?\n",
      "Response: Absolutely. Those memories are part of who you are, but donâ€™t let them define your future entirely.\n",
      "\n",
      "Neighbor 2:\n",
      "Last message: THE FAN: Thatâ€™s really reassuring. Sometimes I just want to escape into another time.\n",
      "Response: Thatâ€™s understandable. Just remember that you can bring elements of those eras into your life now.\n",
      "\n",
      "Neighbor 3:\n",
      "Last message: THE FAN: Iâ€™ll try focusing on my small joysâ€”like vintage records and herbal teas.\n",
      "Response: Perfect. Those are your anchors. In a chaotic world, even small rituals can be deeply meaningful.\n"
     ]
    },
    {
     "name": "stderr",
     "output_type": "stream",
     "text": [
      "100%|█████████████████████████████████████████████████████| 3/3 [00:20<00:00,  6.73s/it]\n"
     ]
    },
    {
     "name": "stdout",
     "output_type": "stream",
     "text": [
      "Bootstrapped 0 full traces after 2 examples for up to 1 rounds, amounting to 3 attempts.\n",
      "\n",
      "Sample 3:\n",
      "Input (last message): THE FAN: Thatâ€™s really comforting. I always thought connection had to be extroverted.\n",
      "Expected: Not at all. Itâ€™s about quality, not quantity. Authentic connection doesnâ€™t demand you to be someone youâ€™re not.\n",
      "Generated: Exactly! Connection isn't one-size-fits-all. What activities make you feel most connected without draining your energy?\n",
      "ROUGE-L: 0.150\n",
      "Semantic Similarity: 0.149\n",
      "\n",
      "Nearest 3 neighbors used:\n",
      "\n",
      "Neighbor 1:\n",
      "Last message: THE FAN: Thatâ€™s really comforting. I always thought connection had to be extroverted.\n",
      "Response: Not at all. Itâ€™s about quality, not quantity. Authentic connection doesnâ€™t demand you to be someone youâ€™re not.\n",
      "\n",
      "Neighbor 2:\n",
      "Last message: THE FAN: It feels chaotic, but I also feel like Iâ€™m learning so much about myself.\n",
      "Response: Thatâ€™s the beauty of self-discovery. Embrace the chaosâ€”it means youâ€™re alive and curious.\n",
      "\n",
      "Neighbor 3:\n",
      "Last message: THE FAN: Iâ€™ll try focusing on my small joysâ€”like vintage records and herbal teas.\n",
      "Response: Perfect. Those are your anchors. In a chaotic world, even small rituals can be deeply meaningful.\n"
     ]
    },
    {
     "name": "stderr",
     "output_type": "stream",
     "text": [
      "100%|█████████████████████████████████████████████████████| 3/3 [00:17<00:00,  5.67s/it]\n"
     ]
    },
    {
     "name": "stdout",
     "output_type": "stream",
     "text": [
      "Bootstrapped 0 full traces after 2 examples for up to 1 rounds, amounting to 3 attempts.\n",
      "\n",
      "Sample 2:\n",
      "Input (last message): THE FAN: Wow, I never thought of it that way. Like, each key is a choice or a mystery.\n",
      "Expected: Exactly! Sometimes the things we keep have deeper symbolism, even if we donâ€™t realize it consciously.\n",
      "Generated: It sounds like you're unlocking new meanings behind your collection! Keep exploring these symbols; they might reveal more about your inner world than you expect.\n",
      "ROUGE-L: 0.093\n",
      "Semantic Similarity: 0.576\n",
      "\n",
      "Nearest 3 neighbors used:\n",
      "\n",
      "Neighbor 1:\n",
      "Last message: THE FAN: Wow, I never thought of it that way. Like, each key is a choice or a mystery.\n",
      "Response: Exactly! Sometimes the things we keep have deeper symbolism, even if we donâ€™t realize it consciously.\n",
      "\n",
      "Neighbor 2:\n",
      "Last message: THE FAN: Iâ€™ll try focusing on my small joysâ€”like vintage records and herbal teas.\n",
      "Response: Perfect. Those are your anchors. In a chaotic world, even small rituals can be deeply meaningful.\n",
      "\n",
      "Neighbor 3:\n",
      "Last message: THE FAN: I love that idea. Maybe right now, Iâ€™m in my â€˜mystical scienceâ€™ chapter.\n",
      "Response: Exactly! Allow yourself to dive deeply into each chapter. Your interests are like seasonsâ€”they come and go with purpose.\n"
     ]
    },
    {
     "name": "stderr",
     "output_type": "stream",
     "text": [
      "100%|█████████████████████████████████████████████████████| 3/3 [00:14<00:00,  4.95s/it]\n"
     ]
    },
    {
     "name": "stdout",
     "output_type": "stream",
     "text": [
      "Bootstrapped 0 full traces after 2 examples for up to 1 rounds, amounting to 3 attempts.\n",
      "\n",
      "Sample 8:\n",
      "Input (last message): THE FAN: I like that. Like, I can just be me but maybe a little less chaotic?\n",
      "Expected: Exactly! Improvement isnâ€™t about fixing, just embracing yourself with more awareness and acceptance.\n",
      "Generated: Think of it as polishing the gem you already are, rather than trying to become a different gem altogether. Small steps towards clarity and calmness can add up over time.\n",
      "ROUGE-L: 0.045\n",
      "Semantic Similarity: 0.379\n",
      "\n",
      "Nearest 3 neighbors used:\n",
      "\n",
      "Neighbor 1:\n",
      "Last message: THE FAN: I like that. Like, I can just be me but maybe a little less chaotic?\n",
      "Response: Exactly! Improvement isnâ€™t about fixing, just embracing yourself with more awareness and acceptance.\n",
      "\n",
      "Neighbor 2:\n",
      "Last message: THE FAN: It feels chaotic, but I also feel like Iâ€™m learning so much about myself.\n",
      "Response: Thatâ€™s the beauty of self-discovery. Embrace the chaosâ€”it means youâ€™re alive and curious.\n",
      "\n",
      "Neighbor 3:\n",
      "Last message: THE FAN: Iâ€™ll try focusing on my small joysâ€”like vintage records and herbal teas.\n",
      "Response: Perfect. Those are your anchors. In a chaotic world, even small rituals can be deeply meaningful.\n"
     ]
    },
    {
     "name": "stderr",
     "output_type": "stream",
     "text": [
      "100%|█████████████████████████████████████████████████████| 3/3 [00:22<00:00,  7.66s/it]\n"
     ]
    },
    {
     "name": "stdout",
     "output_type": "stream",
     "text": [
      "Bootstrapped 0 full traces after 2 examples for up to 1 rounds, amounting to 3 attempts.\n",
      "\n",
      "Sample 7:\n",
      "Input (last message): THE FAN: Iâ€™ll try focusing on my small joysâ€”like vintage records and herbal teas.\n",
      "Expected: Perfect. Those are your anchors. In a chaotic world, even small rituals can be deeply meaningful.\n",
      "Generated: What if you took one of those joys, say listening to vintage records, and turned it into something more engaging, like writing short stories inspired by the music?\n",
      "ROUGE-L: 0.045\n",
      "Semantic Similarity: 0.181\n",
      "\n",
      "Nearest 3 neighbors used:\n",
      "\n",
      "Neighbor 1:\n",
      "Last message: THE FAN: Iâ€™ll try focusing on my small joysâ€”like vintage records and herbal teas.\n",
      "Response: Perfect. Those are your anchors. In a chaotic world, even small rituals can be deeply meaningful.\n",
      "\n",
      "Neighbor 2:\n",
      "Last message: THE FAN: I love that idea. Maybe right now, Iâ€™m in my â€˜mystical scienceâ€™ chapter.\n",
      "Response: Exactly! Allow yourself to dive deeply into each chapter. Your interests are like seasonsâ€”they come and go with purpose.\n",
      "\n",
      "Neighbor 3:\n",
      "Last message: THE FAN: Thatâ€™s really reassuring. Sometimes I just want to escape into another time.\n",
      "Response: Thatâ€™s understandable. Just remember that you can bring elements of those eras into your life now.\n",
      "\n",
      "Overall Metrics:\n",
      "Average ROUGE-L: 0.094 (±0.044)\n",
      "Average Semantic Similarity: 0.346 (±0.161)\n",
      "\n",
      "Testing with k=4\n",
      "--------------------------------------------------\n"
     ]
    },
    {
     "name": "stderr",
     "output_type": "stream",
     "text": [
      "100%|█████████████████████████████████████████████████████| 4/4 [00:18<00:00,  4.69s/it]\n"
     ]
    },
    {
     "name": "stdout",
     "output_type": "stream",
     "text": [
      "Bootstrapped 0 full traces after 3 examples for up to 1 rounds, amounting to 4 attempts.\n",
      "\n",
      "Sample 6:\n",
      "Input (last message): THE FAN: So itâ€™s okay to think about my high school poetry phase and my obsession with old radios?\n",
      "Expected: Absolutely. Those memories are part of who you are, but donâ€™t let them define your future entirely.\n",
      "Generated: Absolutely. Reflecting on fond memories can offer valuable insights; however, consider how these reflections might propel you forward rather than anchor you in the past.\n",
      "ROUGE-L: 0.140\n",
      "Semantic Similarity: 0.675\n",
      "\n",
      "Nearest 4 neighbors used:\n",
      "\n",
      "Neighbor 1:\n",
      "Last message: THE FAN: So itâ€™s okay to think about my high school poetry phase and my obsession with old radios?\n",
      "Response: Absolutely. Those memories are part of who you are, but donâ€™t let them define your future entirely.\n",
      "\n",
      "Neighbor 2:\n",
      "Last message: THE FAN: Thatâ€™s really reassuring. Sometimes I just want to escape into another time.\n",
      "Response: Thatâ€™s understandable. Just remember that you can bring elements of those eras into your life now.\n",
      "\n",
      "Neighbor 3:\n",
      "Last message: THE FAN: Iâ€™ll try focusing on my small joysâ€”like vintage records and herbal teas.\n",
      "Response: Perfect. Those are your anchors. In a chaotic world, even small rituals can be deeply meaningful.\n",
      "\n",
      "Neighbor 4:\n",
      "Last message: THE FAN: I love that idea. Maybe right now, Iâ€™m in my â€˜mystical scienceâ€™ chapter.\n",
      "Response: Exactly! Allow yourself to dive deeply into each chapter. Your interests are like seasonsâ€”they come and go with purpose.\n"
     ]
    },
    {
     "name": "stderr",
     "output_type": "stream",
     "text": [
      "100%|█████████████████████████████████████████████████████| 4/4 [00:23<00:00,  5.96s/it]\n"
     ]
    },
    {
     "name": "stdout",
     "output_type": "stream",
     "text": [
      "Bootstrapped 0 full traces after 3 examples for up to 1 rounds, amounting to 4 attempts.\n",
      "\n",
      "Sample 5:\n",
      "Input (last message): THE FAN: I love that idea. Maybe right now, Iâ€™m in my â€˜mystical scienceâ€™ chapter.\n",
      "Expected: Exactly! Allow yourself to dive deeply into each chapter. Your interests are like seasonsâ€”they come and go with purpose.\n",
      "Generated: Dive deep into mystical science for now; there's always room to explore other chapters later. Remember, every great story has many volumes.\n",
      "ROUGE-L: 0.140\n",
      "Semantic Similarity: 0.572\n",
      "\n",
      "Nearest 4 neighbors used:\n",
      "\n",
      "Neighbor 1:\n",
      "Last message: THE FAN: I love that idea. Maybe right now, Iâ€™m in my â€˜mystical scienceâ€™ chapter.\n",
      "Response: Exactly! Allow yourself to dive deeply into each chapter. Your interests are like seasonsâ€”they come and go with purpose.\n",
      "\n",
      "Neighbor 2:\n",
      "Last message: THE FAN: Iâ€™ll try focusing on my small joysâ€”like vintage records and herbal teas.\n",
      "Response: Perfect. Those are your anchors. In a chaotic world, even small rituals can be deeply meaningful.\n",
      "\n",
      "Neighbor 3:\n",
      "Last message: THE FAN: So itâ€™s okay to think about my high school poetry phase and my obsession with old radios?\n",
      "Response: Absolutely. Those memories are part of who you are, but donâ€™t let them define your future entirely.\n",
      "\n",
      "Neighbor 4:\n",
      "Last message: THE FAN: Thatâ€™s really reassuring. Sometimes I just want to escape into another time.\n",
      "Response: Thatâ€™s understandable. Just remember that you can bring elements of those eras into your life now.\n"
     ]
    },
    {
     "name": "stderr",
     "output_type": "stream",
     "text": [
      "100%|█████████████████████████████████████████████████████| 4/4 [00:32<00:00,  8.20s/it]\n"
     ]
    },
    {
     "name": "stdout",
     "output_type": "stream",
     "text": [
      "Bootstrapped 0 full traces after 3 examples for up to 1 rounds, amounting to 4 attempts.\n",
      "\n",
      "Sample 3:\n",
      "Input (last message): THE FAN: Thatâ€™s really comforting. I always thought connection had to be extroverted.\n",
      "Expected: Not at all. Itâ€™s about quality, not quantity. Authentic connection doesnâ€™t demand you to be someone youâ€™re not.\n",
      "Generated: Shared passions can create strong bonds without needing loud environments. Your unique interests are bridges to others; let them connect you organically.\n",
      "ROUGE-L: 0.093\n",
      "Semantic Similarity: 0.105\n",
      "\n",
      "Nearest 4 neighbors used:\n",
      "\n",
      "Neighbor 1:\n",
      "Last message: THE FAN: Thatâ€™s really comforting. I always thought connection had to be extroverted.\n",
      "Response: Not at all. Itâ€™s about quality, not quantity. Authentic connection doesnâ€™t demand you to be someone youâ€™re not.\n",
      "\n",
      "Neighbor 2:\n",
      "Last message: THE FAN: It feels chaotic, but I also feel like Iâ€™m learning so much about myself.\n",
      "Response: Thatâ€™s the beauty of self-discovery. Embrace the chaosâ€”it means youâ€™re alive and curious.\n",
      "\n",
      "Neighbor 3:\n",
      "Last message: THE FAN: Iâ€™ll try focusing on my small joysâ€”like vintage records and herbal teas.\n",
      "Response: Perfect. Those are your anchors. In a chaotic world, even small rituals can be deeply meaningful.\n",
      "\n",
      "Neighbor 4:\n",
      "Last message: THE FAN: I like that. Like, I can just be me but maybe a little less chaotic?\n",
      "Response: Exactly! Improvement isnâ€™t about fixing, just embracing yourself with more awareness and acceptance.\n"
     ]
    },
    {
     "name": "stderr",
     "output_type": "stream",
     "text": [
      "100%|█████████████████████████████████████████████████████| 4/4 [00:20<00:00,  5.15s/it]\n"
     ]
    },
    {
     "name": "stdout",
     "output_type": "stream",
     "text": [
      "Bootstrapped 0 full traces after 3 examples for up to 1 rounds, amounting to 4 attempts.\n",
      "\n",
      "Sample 1:\n",
      "Input (last message): THE FAN: It feels chaotic, but I also feel like Iâ€™m learning so much about myself.\n",
      "Expected: Thatâ€™s the beauty of self-discovery. Embrace the chaosâ€”it means youâ€™re alive and curious.\n",
      "Generated: Keep exploring! Every new discovery brings clarity. And don't worry if things seem messy along the way; that's where some of the best insights come from.\n",
      "ROUGE-L: 0.178\n",
      "Semantic Similarity: 0.395\n",
      "\n",
      "Nearest 4 neighbors used:\n",
      "\n",
      "Neighbor 1:\n",
      "Last message: THE FAN: It feels chaotic, but I also feel like Iâ€™m learning so much about myself.\n",
      "Response: Thatâ€™s the beauty of self-discovery. Embrace the chaosâ€”it means youâ€™re alive and curious.\n",
      "\n",
      "Neighbor 2:\n",
      "Last message: THE FAN: I like that. Like, I can just be me but maybe a little less chaotic?\n",
      "Response: Exactly! Improvement isnâ€™t about fixing, just embracing yourself with more awareness and acceptance.\n",
      "\n",
      "Neighbor 3:\n",
      "Last message: THE FAN: Thatâ€™s really reassuring. Sometimes I just want to escape into another time.\n",
      "Response: Thatâ€™s understandable. Just remember that you can bring elements of those eras into your life now.\n",
      "\n",
      "Neighbor 4:\n",
      "Last message: THE FAN: Thatâ€™s really comforting. I always thought connection had to be extroverted.\n",
      "Response: Not at all. Itâ€™s about quality, not quantity. Authentic connection doesnâ€™t demand you to be someone youâ€™re not.\n"
     ]
    },
    {
     "name": "stderr",
     "output_type": "stream",
     "text": [
      "100%|█████████████████████████████████████████████████████| 4/4 [00:21<00:00,  5.25s/it]\n"
     ]
    },
    {
     "name": "stdout",
     "output_type": "stream",
     "text": [
      "Bootstrapped 0 full traces after 3 examples for up to 1 rounds, amounting to 4 attempts.\n",
      "\n",
      "Sample 4:\n",
      "Input (last message): THE FAN: Thatâ€™s really reassuring. Sometimes I just want to escape into another time.\n",
      "Expected: Thatâ€™s understandable. Just remember that you can bring elements of those eras into your life now.\n",
      "Generated: Escapism isn't inherently bad; it can actually inspire new perspectives. The key is balance between escaping and engaging with reality.\n",
      "ROUGE-L: 0.053\n",
      "Semantic Similarity: 0.206\n",
      "\n",
      "Nearest 4 neighbors used:\n",
      "\n",
      "Neighbor 1:\n",
      "Last message: THE FAN: Thatâ€™s really reassuring. Sometimes I just want to escape into another time.\n",
      "Response: Thatâ€™s understandable. Just remember that you can bring elements of those eras into your life now.\n",
      "\n",
      "Neighbor 2:\n",
      "Last message: THE FAN: It feels chaotic, but I also feel like Iâ€™m learning so much about myself.\n",
      "Response: Thatâ€™s the beauty of self-discovery. Embrace the chaosâ€”it means youâ€™re alive and curious.\n",
      "\n",
      "Neighbor 3:\n",
      "Last message: THE FAN: Iâ€™ll try focusing on my small joysâ€”like vintage records and herbal teas.\n",
      "Response: Perfect. Those are your anchors. In a chaotic world, even small rituals can be deeply meaningful.\n",
      "\n",
      "Neighbor 4:\n",
      "Last message: THE FAN: So itâ€™s okay to think about my high school poetry phase and my obsession with old radios?\n",
      "Response: Absolutely. Those memories are part of who you are, but donâ€™t let them define your future entirely.\n",
      "\n",
      "Overall Metrics:\n",
      "Average ROUGE-L: 0.121 (±0.043)\n",
      "Average Semantic Similarity: 0.391 (±0.214)\n",
      "\n",
      "Comparative Summary:\n",
      "--------------------------------------------------\n",
      "\n",
      "k=2:\n",
      "ROUGE-L: 0.081 (±0.046)\n",
      "Semantic Similarity: 0.301 (±0.098)\n",
      "\n",
      "k=3:\n",
      "ROUGE-L: 0.094 (±0.044)\n",
      "Semantic Similarity: 0.346 (±0.161)\n",
      "\n",
      "k=4:\n",
      "ROUGE-L: 0.121 (±0.043)\n",
      "Semantic Similarity: 0.391 (±0.214)\n"
     ]
    }
   ],
   "source": [
    "from dspy.teleprompt import KNNFewShot\n",
    "from modules.chatter import ChatterModule\n",
    "from rouge_score import rouge_scorer\n",
    "from sklearn.metrics.pairwise import cosine_similarity\n",
    "from sentence_transformers import SentenceTransformer\n",
    "import numpy as np\n",
    "import random\n",
    "\n",
    "class ResponseEvaluator:\n",
    "    def __init__(self):\n",
    "        self.scorer = rouge_scorer.RougeScorer(['rougeL'], use_stemmer=True)\n",
    "        self.encoder = SentenceTransformer('all-MiniLM-L6-v2')\n",
    "        \n",
    "    def calculate_metrics(self, prediction, reference):\n",
    "        try:\n",
    "            scores = self.scorer.score(reference, prediction)\n",
    "            rouge_l = scores['rougeL'].fmeasure\n",
    "        except:\n",
    "            rouge_l = 0\n",
    "            \n",
    "        pred_emb = self.encoder.encode([prediction])[0]\n",
    "        ref_emb = self.encoder.encode([reference])[0]\n",
    "        semantic_sim = cosine_similarity([pred_emb], [ref_emb])[0][0]\n",
    "        \n",
    "        return {\n",
    "            'rouge_l': rouge_l,\n",
    "            'semantic_sim': semantic_sim\n",
    "        }\n",
    "\n",
    "def metric(example, prediction, trace=None):\n",
    "    return example.output == prediction.output\n",
    "\n",
    "def test_knn(k_value, trainset, num_samples=5):\n",
    "    print(f\"\\nTesting with k={k_value}\")\n",
    "    print(\"-\" * 50)\n",
    "    \n",
    "    bootstrap_args = {\n",
    "        'metric': metric,\n",
    "        'max_bootstrapped_demos': 2,\n",
    "        'max_labeled_demos': 4,\n",
    "        'max_rounds': 1,\n",
    "        'max_errors': 5\n",
    "    }\n",
    "\n",
    "    knn_teleprompter = KNNFewShot(\n",
    "        k=k_value,\n",
    "        trainset=trainset,\n",
    "        **bootstrap_args\n",
    "    )\n",
    "\n",
    "    chatter = ChatterModule(examples=None)\n",
    "    compiled_knn = knn_teleprompter.compile(\n",
    "        student=chatter,\n",
    "        trainset=trainset\n",
    "    )\n",
    "    \n",
    "    evaluator = ResponseEvaluator()\n",
    "    metrics_list = []\n",
    "    \n",
    "    test_indices = random.sample(range(len(trainset)), num_samples)\n",
    "    \n",
    "    for idx in test_indices:\n",
    "        test_example = trainset[idx]\n",
    "        \n",
    "        # Get model response\n",
    "        result = compiled_knn(chat_history=test_example.chat_history)\n",
    "        response = result.output\n",
    "        \n",
    "        # Calculate metrics\n",
    "        metrics = evaluator.calculate_metrics(response, test_example.output)\n",
    "        metrics_list.append(metrics)\n",
    "        \n",
    "        # Print detailed results for this example\n",
    "        print(f\"\\nSample {idx + 1}:\")\n",
    "        print(\"Input (last message):\", str(test_example.chat_history.messages[-1]))  # Using __str__ method\n",
    "        print(\"Expected:\", test_example.output)\n",
    "        print(\"Generated:\", response)\n",
    "        print(f\"ROUGE-L: {metrics['rouge_l']:.3f}\")\n",
    "        print(f\"Semantic Similarity: {metrics['semantic_sim']:.3f}\")\n",
    "        \n",
    "        # Print nearest neighbors\n",
    "        neighbors = knn_teleprompter.KNN(chat_history=test_example.chat_history)\n",
    "        print(f\"\\nNearest {k_value} neighbors used:\")\n",
    "        for i, n in enumerate(neighbors):\n",
    "            print(f\"\\nNeighbor {i+1}:\")\n",
    "            print(\"Last message:\", str(n.chat_history.messages[-1]))  # Using __str__ method\n",
    "            print(f\"Response: {n.output}\")\n",
    "    \n",
    "    # Calculate average metrics\n",
    "    avg_rouge = np.mean([m['rouge_l'] for m in metrics_list])\n",
    "    avg_semantic = np.mean([m['semantic_sim'] for m in metrics_list])\n",
    "    std_rouge = np.std([m['rouge_l'] for m in metrics_list])\n",
    "    std_semantic = np.std([m['semantic_sim'] for m in metrics_list])\n",
    "    \n",
    "    print(\"\\nOverall Metrics:\")\n",
    "    print(f\"Average ROUGE-L: {avg_rouge:.3f} (±{std_rouge:.3f})\")\n",
    "    print(f\"Average Semantic Similarity: {avg_semantic:.3f} (±{std_semantic:.3f})\")\n",
    "    \n",
    "    return {\n",
    "        'rouge_l': avg_rouge,\n",
    "        'rouge_std': std_rouge,\n",
    "        'semantic_sim': avg_semantic,\n",
    "        'semantic_std': std_semantic\n",
    "    }\n",
    "\n",
    "# Test with different k values and collect results\n",
    "results = {}\n",
    "for k in [2, 3, 4]:\n",
    "    results[k] = test_knn(k, trainset, num_samples=5)\n",
    "\n",
    "# Print comparative summary\n",
    "print(\"\\nComparative Summary:\")\n",
    "print(\"-\" * 50)\n",
    "for k, metrics in results.items():\n",
    "    print(f\"\\nk={k}:\")\n",
    "    print(f\"ROUGE-L: {metrics['rouge_l']:.3f} (±{metrics['rouge_std']:.3f})\")\n",
    "    print(f\"Semantic Similarity: {metrics['semantic_sim']:.3f} (±{metrics['semantic_std']:.3f})\")"
   ]
  },
  {
   "cell_type": "code",
   "execution_count": 8,
   "id": "2c37fdf1-d7f7-4bb8-89dc-df99e03a56a9",
   "metadata": {},
   "outputs": [
    {
     "name": "stderr",
     "output_type": "stream",
     "text": [
      "100%|█████████████████████████████████████████████████████| 4/4 [00:20<00:00,  5.09s/it]\n"
     ]
    },
    {
     "name": "stdout",
     "output_type": "stream",
     "text": [
      "Bootstrapped 0 full traces after 3 examples for up to 1 rounds, amounting to 4 attempts.\n",
      "\n",
      "Test Results:\n",
      "Input conversation:\n",
      "Fan: I feel like Iâ€™m always â€˜rediscoveringâ€™ myself. Is that normal, or am I just indecisive?\n",
      "Creator: Rediscovery is a sign of growth. Weâ€™re constantly evolving, and itâ€™s healthy to question who you are.\n",
      "Fan: It feels chaotic, but I also feel like Iâ€™m learning so much about myself.\n",
      "\n",
      "Model output: Keep exploring without judgment. Every version of you has value; don't compare, integrate.\n",
      "\n",
      "Nearest neighbors used:\n",
      "\n",
      "Neighbor 1:\n",
      "Fan: I feel like Iâ€™m always â€˜rediscoveringâ€™ myself. Is that normal, or am I just indecisive?\n",
      "Creator: Rediscovery is a sign of growth. Weâ€™re constantly evolving, and itâ€™s healthy to question who you are.\n",
      "Fan: It feels chaotic, but I also feel like Iâ€™m learning so much about myself.\n",
      "Response: Thatâ€™s the beauty of self-discovery. Embrace the chaosâ€”it means youâ€™re alive and curious.\n",
      "\n",
      "Neighbor 2:\n",
      "Fan: Do you ever feel like the idea of â€˜self-improvementâ€™ is just another way to make people feel inadequate?\n",
      "Creator: Thatâ€™s a deep question. True self-improvement shouldnâ€™t make you feel lacking. Itâ€™s about becoming more yourself, not something else.\n",
      "Fan: I like that. Like, I can just be me but maybe a little less chaotic?\n",
      "Response: Exactly! Improvement isnâ€™t about fixing, just embracing yourself with more awareness and acceptance.\n",
      "\n",
      "Neighbor 3:\n",
      "Fan: I sometimes feel like Iâ€™m an â€˜old soulâ€™ in a world thatâ€™s moving too fast. Is that weird?\n",
      "Creator: Not at all. Some people connect deeply with past eras, and thatâ€™s perfectly valid. Itâ€™s about finding your own rhythm.\n",
      "Fan: Thatâ€™s really reassuring. Sometimes I just want to escape into another time.\n",
      "Response: Thatâ€™s understandable. Just remember that you can bring elements of those eras into your life now.\n",
      "\n",
      "Neighbor 4:\n",
      "Fan: How would you balance being an introvert with the need for connection? I feel like I live in a world of my own...\n",
      "Creator: The key is finding people who appreciate your world rather than requiring you to leave it. True connection can be simple and quiet.\n",
      "Fan: Thatâ€™s really comforting. I always thought connection had to be extroverted.\n",
      "Response: Not at all. Itâ€™s about quality, not quantity. Authentic connection doesnâ€™t demand you to be someone youâ€™re not.\n"
     ]
    }
   ],
   "source": [
    "from dspy.teleprompt import KNNFewShot\n",
    "from modules.chatter import ChatterModule\n",
    "\n",
    "def metric(example, prediction, trace=None):\n",
    "    return example.output == prediction.output\n",
    "\n",
    "# Create the KNN teleprompter with optimal parameters\n",
    "bootstrap_args = {\n",
    "    'metric': metric,\n",
    "    'max_bootstrapped_demos': 2,\n",
    "    'max_labeled_demos': 4,\n",
    "    'max_rounds': 1,\n",
    "    'max_errors': 5\n",
    "}\n",
    "\n",
    "# Initialize KNN with k=2\n",
    "knn_teleprompter = KNNFewShot(\n",
    "    k=4,  # Using 2 nearest neighbors\n",
    "    trainset=trainset,\n",
    "    **bootstrap_args\n",
    ")\n",
    "\n",
    "# Create and compile\n",
    "chatter = ChatterModule(examples=None)\n",
    "compiled_knn = knn_teleprompter.compile(\n",
    "    student=chatter,\n",
    "    trainset=trainset\n",
    ")\n",
    "\n",
    "# Optional: Save the compiled model\n",
    "compiled_knn.save(\"saved_models/optimized_chatbot.json\")\n",
    "\n",
    "# Test the model (optional)\n",
    "def test_model():\n",
    "    test_history = trainset[0].chat_history\n",
    "    result = compiled_knn(chat_history=test_history)\n",
    "    \n",
    "    print(\"\\nTest Results:\")\n",
    "    print(\"Input conversation:\")\n",
    "    for msg in test_history.messages:\n",
    "        role = \"Fan\" if not msg.from_creator else \"Creator\"\n",
    "        print(f\"{role}: {msg.content}\")\n",
    "    \n",
    "    print(f\"\\nModel output: {result.output}\")\n",
    "    \n",
    "    neighbors = knn_teleprompter.KNN(chat_history=test_history)\n",
    "    print(f\"\\nNearest neighbors used:\")\n",
    "    for i, n in enumerate(neighbors):\n",
    "        print(f\"\\nNeighbor {i+1}:\")\n",
    "        for msg in n.chat_history.messages:\n",
    "            role = \"Fan\" if not msg.from_creator else \"Creator\"\n",
    "            print(f\"{role}: {msg.content}\")\n",
    "        print(f\"Response: {n.output}\")\n",
    "\n",
    "# Uncomment to test\n",
    "test_model()"
   ]
  },
  {
   "cell_type": "code",
   "execution_count": 8,
   "id": "eb445463-a5c9-442f-8781-7a37e6c25075",
   "metadata": {},
   "outputs": [
    {
     "data": {
      "text/plain": [
       "responder.prog.predictor = Predict(StringSignature(chat_history -> reasoning, output\n",
       "    instructions='You are an OnlyFans creator chatting on OnlyFans with a fan.\\nYou are deciding on what your message should be.'\n",
       "    chat_history = Field(annotation=ChatHistory required=True json_schema_extra={'desc': 'the chat history', '__dspy_field_type': 'input', 'prefix': 'Chat History:'})\n",
       "    reasoning = Field(annotation=str required=True json_schema_extra={'prefix': \"Reasoning: Let's think step by step to decide on our message. We\", '__dspy_field_type': 'output', 'desc': '${reasoning}'})\n",
       "    output = Field(annotation=str required=True json_schema_extra={'prefix': 'Your Message:', 'desc': 'the exact text of the message you will send to the fan.', '__dspy_field_type': 'output'})\n",
       "))"
      ]
     },
     "execution_count": 8,
     "metadata": {},
     "output_type": "execute_result"
    }
   ],
   "source": [
    "compiled_knn"
   ]
  },
  {
   "cell_type": "code",
   "execution_count": 9,
   "id": "aa1dadd1-42b7-4103-90e5-beda1344a83e",
   "metadata": {},
   "outputs": [
    {
     "name": "stdin",
     "output_type": "stream",
     "text": [
      "You:  who are you?\n"
     ]
    },
    {
     "name": "stdout",
     "output_type": "stream",
     "text": [
      "\n",
      "Response: Hi there! I'm [Your Name], nice to meet you! Welcome to my page! What drew you here? Are you looking for something specific or just browsing?\n",
      "\n"
     ]
    },
    {
     "name": "stdin",
     "output_type": "stream",
     "text": [
      "You:  What is your name?\n"
     ]
    },
    {
     "name": "stdout",
     "output_type": "stream",
     "text": [
      "\n",
      "Response: My name is [Your Actual Name]. It's lovely to have you here! Is there anything else you'd like to know about me?\n",
      "\n"
     ]
    },
    {
     "ename": "KeyboardInterrupt",
     "evalue": "Interrupted by user",
     "output_type": "error",
     "traceback": [
      "\u001b[1;31m---------------------------------------------------------------------------\u001b[0m",
      "\u001b[1;31mKeyboardInterrupt\u001b[0m                         Traceback (most recent call last)",
      "Cell \u001b[1;32mIn[9], line 8\u001b[0m\n\u001b[0;32m      4\u001b[0m chat_history \u001b[38;5;241m=\u001b[39m ChatHistory()\n\u001b[0;32m      6\u001b[0m \u001b[38;5;28;01mwhile\u001b[39;00m \u001b[38;5;28;01mTrue\u001b[39;00m:\n\u001b[0;32m      7\u001b[0m     \u001b[38;5;66;03m# Get user input\u001b[39;00m\n\u001b[1;32m----> 8\u001b[0m     user_input \u001b[38;5;241m=\u001b[39m \u001b[38;5;28;43minput\u001b[39;49m\u001b[43m(\u001b[49m\u001b[38;5;124;43m\"\u001b[39;49m\u001b[38;5;124;43mYou: \u001b[39;49m\u001b[38;5;124;43m\"\u001b[39;49m\u001b[43m)\u001b[49m\n\u001b[0;32m     10\u001b[0m     \u001b[38;5;66;03m# Append user input to chat history\u001b[39;00m\n\u001b[0;32m     11\u001b[0m     chat_history\u001b[38;5;241m.\u001b[39mmessages\u001b[38;5;241m.\u001b[39mappend(\n\u001b[0;32m     12\u001b[0m         ChatMessage(\n\u001b[0;32m     13\u001b[0m             from_creator\u001b[38;5;241m=\u001b[39m\u001b[38;5;28;01mFalse\u001b[39;00m,\n\u001b[0;32m     14\u001b[0m             content\u001b[38;5;241m=\u001b[39muser_input,\n\u001b[0;32m     15\u001b[0m         ),\n\u001b[0;32m     16\u001b[0m     )\n",
      "File \u001b[1;32m~\\anaconda3\\envs\\whisper2\\lib\\site-packages\\ipykernel\\kernelbase.py:1282\u001b[0m, in \u001b[0;36mKernel.raw_input\u001b[1;34m(self, prompt)\u001b[0m\n\u001b[0;32m   1280\u001b[0m     msg \u001b[38;5;241m=\u001b[39m \u001b[38;5;124m\"\u001b[39m\u001b[38;5;124mraw_input was called, but this frontend does not support input requests.\u001b[39m\u001b[38;5;124m\"\u001b[39m\n\u001b[0;32m   1281\u001b[0m     \u001b[38;5;28;01mraise\u001b[39;00m StdinNotImplementedError(msg)\n\u001b[1;32m-> 1282\u001b[0m \u001b[38;5;28;01mreturn\u001b[39;00m \u001b[38;5;28;43mself\u001b[39;49m\u001b[38;5;241;43m.\u001b[39;49m\u001b[43m_input_request\u001b[49m\u001b[43m(\u001b[49m\n\u001b[0;32m   1283\u001b[0m \u001b[43m    \u001b[49m\u001b[38;5;28;43mstr\u001b[39;49m\u001b[43m(\u001b[49m\u001b[43mprompt\u001b[49m\u001b[43m)\u001b[49m\u001b[43m,\u001b[49m\n\u001b[0;32m   1284\u001b[0m \u001b[43m    \u001b[49m\u001b[38;5;28;43mself\u001b[39;49m\u001b[38;5;241;43m.\u001b[39;49m\u001b[43m_parent_ident\u001b[49m\u001b[43m[\u001b[49m\u001b[38;5;124;43m\"\u001b[39;49m\u001b[38;5;124;43mshell\u001b[39;49m\u001b[38;5;124;43m\"\u001b[39;49m\u001b[43m]\u001b[49m\u001b[43m,\u001b[49m\n\u001b[0;32m   1285\u001b[0m \u001b[43m    \u001b[49m\u001b[38;5;28;43mself\u001b[39;49m\u001b[38;5;241;43m.\u001b[39;49m\u001b[43mget_parent\u001b[49m\u001b[43m(\u001b[49m\u001b[38;5;124;43m\"\u001b[39;49m\u001b[38;5;124;43mshell\u001b[39;49m\u001b[38;5;124;43m\"\u001b[39;49m\u001b[43m)\u001b[49m\u001b[43m,\u001b[49m\n\u001b[0;32m   1286\u001b[0m \u001b[43m    \u001b[49m\u001b[43mpassword\u001b[49m\u001b[38;5;241;43m=\u001b[39;49m\u001b[38;5;28;43;01mFalse\u001b[39;49;00m\u001b[43m,\u001b[49m\n\u001b[0;32m   1287\u001b[0m \u001b[43m\u001b[49m\u001b[43m)\u001b[49m\n",
      "File \u001b[1;32m~\\anaconda3\\envs\\whisper2\\lib\\site-packages\\ipykernel\\kernelbase.py:1325\u001b[0m, in \u001b[0;36mKernel._input_request\u001b[1;34m(self, prompt, ident, parent, password)\u001b[0m\n\u001b[0;32m   1322\u001b[0m \u001b[38;5;28;01mexcept\u001b[39;00m \u001b[38;5;167;01mKeyboardInterrupt\u001b[39;00m:\n\u001b[0;32m   1323\u001b[0m     \u001b[38;5;66;03m# re-raise KeyboardInterrupt, to truncate traceback\u001b[39;00m\n\u001b[0;32m   1324\u001b[0m     msg \u001b[38;5;241m=\u001b[39m \u001b[38;5;124m\"\u001b[39m\u001b[38;5;124mInterrupted by user\u001b[39m\u001b[38;5;124m\"\u001b[39m\n\u001b[1;32m-> 1325\u001b[0m     \u001b[38;5;28;01mraise\u001b[39;00m \u001b[38;5;167;01mKeyboardInterrupt\u001b[39;00m(msg) \u001b[38;5;28;01mfrom\u001b[39;00m \u001b[38;5;28;01mNone\u001b[39;00m\n\u001b[0;32m   1326\u001b[0m \u001b[38;5;28;01mexcept\u001b[39;00m \u001b[38;5;167;01mException\u001b[39;00m:\n\u001b[0;32m   1327\u001b[0m     \u001b[38;5;28mself\u001b[39m\u001b[38;5;241m.\u001b[39mlog\u001b[38;5;241m.\u001b[39mwarning(\u001b[38;5;124m\"\u001b[39m\u001b[38;5;124mInvalid Message:\u001b[39m\u001b[38;5;124m\"\u001b[39m, exc_info\u001b[38;5;241m=\u001b[39m\u001b[38;5;28;01mTrue\u001b[39;00m)\n",
      "\u001b[1;31mKeyboardInterrupt\u001b[0m: Interrupted by user"
     ]
    }
   ],
   "source": [
    "chatter = ChatterModule(examples=None)  # Create a new instance\n",
    "chatter.load(path=\"saved_models/optimized_chatbot.json\")  # Load the optimized version\n",
    "\n",
    "chat_history = ChatHistory()\n",
    "\n",
    "while True:\n",
    "    # Get user input\n",
    "    user_input = input(\"You: \")\n",
    "\n",
    "    # Append user input to chat history\n",
    "    chat_history.messages.append(\n",
    "        ChatMessage(\n",
    "            from_creator=False,\n",
    "            content=user_input,\n",
    "        ),\n",
    "    )\n",
    "\n",
    "    # Send request to endpoint using loaded model\n",
    "    response = chatter(chat_history=chat_history).output\n",
    "\n",
    "    # Append response to chat history\n",
    "    chat_history.messages.append(\n",
    "        ChatMessage(\n",
    "            from_creator=True,\n",
    "            content=response,\n",
    "        ),\n",
    "    )\n",
    "    # Print response\n",
    "    print()\n",
    "    print(\"Response:\", response)\n",
    "    print()"
   ]
  },
  {
   "cell_type": "code",
   "execution_count": null,
   "id": "46eb2397-6dbe-4dd7-bbeb-03ccd118b4b7",
   "metadata": {},
   "outputs": [],
   "source": []
  }
 ],
 "metadata": {
  "kernelspec": {
   "display_name": "Python (whisper2)",
   "language": "python",
   "name": "whisper2"
  },
  "language_info": {
   "codemirror_mode": {
    "name": "ipython",
    "version": 3
   },
   "file_extension": ".py",
   "mimetype": "text/x-python",
   "name": "python",
   "nbconvert_exporter": "python",
   "pygments_lexer": "ipython3",
   "version": "3.10.15"
  }
 },
 "nbformat": 4,
 "nbformat_minor": 5
}
